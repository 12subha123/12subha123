{
  "cells": [
    {
      "cell_type": "markdown",
      "metadata": {
        "id": "view-in-github",
        "colab_type": "text"
      },
      "source": [
        "<a href=\"https://colab.research.google.com/github/12subha123/12subha123/blob/main/Lab%20B%20-%20Quantum%20Enigmas.ipynb\" target=\"_parent\"><img src=\"https://colab.research.google.com/assets/colab-badge.svg\" alt=\"Open In Colab\"/></a>"
      ]
    },
    {
      "cell_type": "code",
      "execution_count": 1,
      "id": "57bd1526-3d43-49b1-a079-6c64312571d9",
      "metadata": {
        "colab": {
          "base_uri": "https://localhost:8080/"
        },
        "id": "57bd1526-3d43-49b1-a079-6c64312571d9",
        "outputId": "a31f1486-9506-4960-8abd-86b2b96b7a27"
      },
      "outputs": [
        {
          "output_type": "stream",
          "name": "stdout",
          "text": [
            "Collecting qc-grader@ git+https://github.com/qiskit-community/Quantum-Challenge-Grader.git (from qc-grader[qiskit]@ git+https://github.com/qiskit-community/Quantum-Challenge-Grader.git)\n",
            "  Cloning https://github.com/qiskit-community/Quantum-Challenge-Grader.git to /tmp/pip-install-82sc3zkn/qc-grader_e9c07b6abeee4e53b30b12bcdd181448\n",
            "  Running command git clone --filter=blob:none --quiet https://github.com/qiskit-community/Quantum-Challenge-Grader.git /tmp/pip-install-82sc3zkn/qc-grader_e9c07b6abeee4e53b30b12bcdd181448\n",
            "  Resolved https://github.com/qiskit-community/Quantum-Challenge-Grader.git to commit 49b232a1e821722e6820d54fdcb2d1117a75f597\n",
            "  Preparing metadata (setup.py) ... \u001b[?25l\u001b[?25hdone\n",
            "Requirement already satisfied: typeguard in /usr/local/lib/python3.11/dist-packages (from qc-grader@ git+https://github.com/qiskit-community/Quantum-Challenge-Grader.git->qc-grader[qiskit]@ git+https://github.com/qiskit-community/Quantum-Challenge-Grader.git) (4.4.2)\n",
            "Collecting jsonpickle==3.0.3 (from qc-grader@ git+https://github.com/qiskit-community/Quantum-Challenge-Grader.git->qc-grader[qiskit]@ git+https://github.com/qiskit-community/Quantum-Challenge-Grader.git)\n",
            "  Downloading jsonpickle-3.0.3-py3-none-any.whl.metadata (7.3 kB)\n",
            "Collecting ipycytoscape (from qc-grader@ git+https://github.com/qiskit-community/Quantum-Challenge-Grader.git->qc-grader[qiskit]@ git+https://github.com/qiskit-community/Quantum-Challenge-Grader.git)\n",
            "  Downloading ipycytoscape-1.3.3-py2.py3-none-any.whl.metadata (7.5 kB)\n",
            "Requirement already satisfied: plotly in /usr/local/lib/python3.11/dist-packages (from qc-grader@ git+https://github.com/qiskit-community/Quantum-Challenge-Grader.git->qc-grader[qiskit]@ git+https://github.com/qiskit-community/Quantum-Challenge-Grader.git) (5.24.1)\n",
            "Collecting networkx==3.2.1 (from qc-grader@ git+https://github.com/qiskit-community/Quantum-Challenge-Grader.git->qc-grader[qiskit]@ git+https://github.com/qiskit-community/Quantum-Challenge-Grader.git)\n",
            "  Downloading networkx-3.2.1-py3-none-any.whl.metadata (5.2 kB)\n",
            "Requirement already satisfied: graphviz in /usr/local/lib/python3.11/dist-packages (from qc-grader@ git+https://github.com/qiskit-community/Quantum-Challenge-Grader.git->qc-grader[qiskit]@ git+https://github.com/qiskit-community/Quantum-Challenge-Grader.git) (0.20.3)\n",
            "Collecting qiskit==1.2.0 (from qiskit[visualization]==1.2.0; extra == \"qiskit\"->qc-grader@ git+https://github.com/qiskit-community/Quantum-Challenge-Grader.git->qc-grader[qiskit]@ git+https://github.com/qiskit-community/Quantum-Challenge-Grader.git)\n",
            "  Downloading qiskit-1.2.0-cp38-abi3-manylinux_2_17_x86_64.manylinux2014_x86_64.whl.metadata (12 kB)\n",
            "Collecting qiskit-ibm-runtime (from qc-grader@ git+https://github.com/qiskit-community/Quantum-Challenge-Grader.git->qc-grader[qiskit]@ git+https://github.com/qiskit-community/Quantum-Challenge-Grader.git)\n",
            "  Downloading qiskit_ibm_runtime-0.37.0-py3-none-any.whl.metadata (20 kB)\n",
            "Collecting qiskit-aer (from qc-grader@ git+https://github.com/qiskit-community/Quantum-Challenge-Grader.git->qc-grader[qiskit]@ git+https://github.com/qiskit-community/Quantum-Challenge-Grader.git)\n",
            "  Downloading qiskit_aer-0.17.0-cp311-cp311-manylinux_2_17_x86_64.manylinux2014_x86_64.whl.metadata (8.2 kB)\n",
            "Collecting qiskit-transpiler-service (from qc-grader@ git+https://github.com/qiskit-community/Quantum-Challenge-Grader.git->qc-grader[qiskit]@ git+https://github.com/qiskit-community/Quantum-Challenge-Grader.git)\n",
            "  Downloading qiskit_transpiler_service-0.4.14-py3-none-any.whl.metadata (11 kB)\n",
            "Collecting qiskit-serverless==0.12.0 (from qc-grader@ git+https://github.com/qiskit-community/Quantum-Challenge-Grader.git->qc-grader[qiskit]@ git+https://github.com/qiskit-community/Quantum-Challenge-Grader.git)\n",
            "  Downloading qiskit_serverless-0.12.0-py3-none-any.whl.metadata (4.9 kB)\n",
            "Collecting circuit-knitting-toolbox (from qc-grader@ git+https://github.com/qiskit-community/Quantum-Challenge-Grader.git->qc-grader[qiskit]@ git+https://github.com/qiskit-community/Quantum-Challenge-Grader.git)\n",
            "  Downloading circuit_knitting_toolbox-0.8.0-py3-none-any.whl.metadata (17 kB)\n",
            "Collecting qiskit-ibm-catalog (from qc-grader@ git+https://github.com/qiskit-community/Quantum-Challenge-Grader.git->qc-grader[qiskit]@ git+https://github.com/qiskit-community/Quantum-Challenge-Grader.git)\n",
            "  Downloading qiskit_ibm_catalog-0.5.0-py3-none-any.whl.metadata (17 kB)\n",
            "Collecting qiskit-addon-utils (from qc-grader@ git+https://github.com/qiskit-community/Quantum-Challenge-Grader.git->qc-grader[qiskit]@ git+https://github.com/qiskit-community/Quantum-Challenge-Grader.git)\n",
            "  Downloading qiskit_addon_utils-0.1.1-py3-none-any.whl.metadata (22 kB)\n",
            "Collecting qiskit-addon-obp (from qc-grader@ git+https://github.com/qiskit-community/Quantum-Challenge-Grader.git->qc-grader[qiskit]@ git+https://github.com/qiskit-community/Quantum-Challenge-Grader.git)\n",
            "  Downloading qiskit_addon_obp-0.2.0-py3-none-any.whl.metadata (23 kB)\n",
            "Collecting rustworkx>=0.15.0 (from qiskit==1.2.0->qiskit[visualization]==1.2.0; extra == \"qiskit\"->qc-grader@ git+https://github.com/qiskit-community/Quantum-Challenge-Grader.git->qc-grader[qiskit]@ git+https://github.com/qiskit-community/Quantum-Challenge-Grader.git)\n",
            "  Downloading rustworkx-0.16.0-cp39-abi3-manylinux_2_17_x86_64.manylinux2014_x86_64.whl.metadata (10 kB)\n",
            "Requirement already satisfied: numpy<3,>=1.17 in /usr/local/lib/python3.11/dist-packages (from qiskit==1.2.0->qiskit[visualization]==1.2.0; extra == \"qiskit\"->qc-grader@ git+https://github.com/qiskit-community/Quantum-Challenge-Grader.git->qc-grader[qiskit]@ git+https://github.com/qiskit-community/Quantum-Challenge-Grader.git) (2.0.2)\n",
            "Requirement already satisfied: scipy>=1.5 in /usr/local/lib/python3.11/dist-packages (from qiskit==1.2.0->qiskit[visualization]==1.2.0; extra == \"qiskit\"->qc-grader@ git+https://github.com/qiskit-community/Quantum-Challenge-Grader.git->qc-grader[qiskit]@ git+https://github.com/qiskit-community/Quantum-Challenge-Grader.git) (1.14.1)\n",
            "Requirement already satisfied: sympy>=1.3 in /usr/local/lib/python3.11/dist-packages (from qiskit==1.2.0->qiskit[visualization]==1.2.0; extra == \"qiskit\"->qc-grader@ git+https://github.com/qiskit-community/Quantum-Challenge-Grader.git->qc-grader[qiskit]@ git+https://github.com/qiskit-community/Quantum-Challenge-Grader.git) (1.13.1)\n",
            "Collecting dill>=0.3 (from qiskit==1.2.0->qiskit[visualization]==1.2.0; extra == \"qiskit\"->qc-grader@ git+https://github.com/qiskit-community/Quantum-Challenge-Grader.git->qc-grader[qiskit]@ git+https://github.com/qiskit-community/Quantum-Challenge-Grader.git)\n",
            "  Downloading dill-0.3.9-py3-none-any.whl.metadata (10 kB)\n",
            "Requirement already satisfied: python-dateutil>=2.8.0 in /usr/local/lib/python3.11/dist-packages (from qiskit==1.2.0->qiskit[visualization]==1.2.0; extra == \"qiskit\"->qc-grader@ git+https://github.com/qiskit-community/Quantum-Challenge-Grader.git->qc-grader[qiskit]@ git+https://github.com/qiskit-community/Quantum-Challenge-Grader.git) (2.8.2)\n",
            "Collecting stevedore>=3.0.0 (from qiskit==1.2.0->qiskit[visualization]==1.2.0; extra == \"qiskit\"->qc-grader@ git+https://github.com/qiskit-community/Quantum-Challenge-Grader.git->qc-grader[qiskit]@ git+https://github.com/qiskit-community/Quantum-Challenge-Grader.git)\n",
            "  Downloading stevedore-5.4.1-py3-none-any.whl.metadata (2.3 kB)\n",
            "Requirement already satisfied: typing-extensions in /usr/local/lib/python3.11/dist-packages (from qiskit==1.2.0->qiskit[visualization]==1.2.0; extra == \"qiskit\"->qc-grader@ git+https://github.com/qiskit-community/Quantum-Challenge-Grader.git->qc-grader[qiskit]@ git+https://github.com/qiskit-community/Quantum-Challenge-Grader.git) (4.13.0)\n",
            "Collecting symengine>=0.11 (from qiskit==1.2.0->qiskit[visualization]==1.2.0; extra == \"qiskit\"->qc-grader@ git+https://github.com/qiskit-community/Quantum-Challenge-Grader.git->qc-grader[qiskit]@ git+https://github.com/qiskit-community/Quantum-Challenge-Grader.git)\n",
            "  Downloading symengine-0.14.0-cp311-cp311-manylinux_2_17_x86_64.manylinux2014_x86_64.whl.metadata (1.3 kB)\n",
            "Collecting ray<3,>=2.9.3 (from ray[data,default]<3,>=2.9.3->qiskit-serverless==0.12.0->qc-grader@ git+https://github.com/qiskit-community/Quantum-Challenge-Grader.git->qc-grader[qiskit]@ git+https://github.com/qiskit-community/Quantum-Challenge-Grader.git)\n",
            "  Downloading ray-2.44.1-cp311-cp311-manylinux2014_x86_64.whl.metadata (19 kB)\n",
            "Requirement already satisfied: requests>=2.32.2 in /usr/local/lib/python3.11/dist-packages (from qiskit-serverless==0.12.0->qc-grader@ git+https://github.com/qiskit-community/Quantum-Challenge-Grader.git->qc-grader[qiskit]@ git+https://github.com/qiskit-community/Quantum-Challenge-Grader.git) (2.32.3)\n",
            "Requirement already satisfied: importlib-metadata>=5.2.0 in /usr/local/lib/python3.11/dist-packages (from qiskit-serverless==0.12.0->qc-grader@ git+https://github.com/qiskit-community/Quantum-Challenge-Grader.git->qc-grader[qiskit]@ git+https://github.com/qiskit-community/Quantum-Challenge-Grader.git) (8.6.1)\n",
            "Collecting qiskit-ibm-provider>=0.10.0 (from qiskit-serverless==0.12.0->qc-grader@ git+https://github.com/qiskit-community/Quantum-Challenge-Grader.git->qc-grader[qiskit]@ git+https://github.com/qiskit-community/Quantum-Challenge-Grader.git)\n",
            "  Downloading qiskit_ibm_provider-0.11.0-py3-none-any.whl.metadata (7.6 kB)\n",
            "Collecting cloudpickle==2.2.1 (from qiskit-serverless==0.12.0->qc-grader@ git+https://github.com/qiskit-community/Quantum-Challenge-Grader.git->qc-grader[qiskit]@ git+https://github.com/qiskit-community/Quantum-Challenge-Grader.git)\n",
            "  Downloading cloudpickle-2.2.1-py3-none-any.whl.metadata (6.9 kB)\n",
            "Requirement already satisfied: tqdm>=4.66.3 in /usr/local/lib/python3.11/dist-packages (from qiskit-serverless==0.12.0->qc-grader@ git+https://github.com/qiskit-community/Quantum-Challenge-Grader.git->qc-grader[qiskit]@ git+https://github.com/qiskit-community/Quantum-Challenge-Grader.git) (4.67.1)\n",
            "Requirement already satisfied: opentelemetry-api>=1.18.0 in /usr/local/lib/python3.11/dist-packages (from qiskit-serverless==0.12.0->qc-grader@ git+https://github.com/qiskit-community/Quantum-Challenge-Grader.git->qc-grader[qiskit]@ git+https://github.com/qiskit-community/Quantum-Challenge-Grader.git) (1.31.1)\n",
            "Requirement already satisfied: opentelemetry-sdk>=1.18.0 in /usr/local/lib/python3.11/dist-packages (from qiskit-serverless==0.12.0->qc-grader@ git+https://github.com/qiskit-community/Quantum-Challenge-Grader.git->qc-grader[qiskit]@ git+https://github.com/qiskit-community/Quantum-Challenge-Grader.git) (1.31.1)\n",
            "Collecting opentelemetry-exporter-otlp-proto-grpc>=1.18.0 (from qiskit-serverless==0.12.0->qc-grader@ git+https://github.com/qiskit-community/Quantum-Challenge-Grader.git->qc-grader[qiskit]@ git+https://github.com/qiskit-community/Quantum-Challenge-Grader.git)\n",
            "  Downloading opentelemetry_exporter_otlp_proto_grpc-1.31.1-py3-none-any.whl.metadata (2.5 kB)\n",
            "Collecting s3fs>=2023.6.0 (from qiskit-serverless==0.12.0->qc-grader@ git+https://github.com/qiskit-community/Quantum-Challenge-Grader.git->qc-grader[qiskit]@ git+https://github.com/qiskit-community/Quantum-Challenge-Grader.git)\n",
            "  Downloading s3fs-2025.3.2-py3-none-any.whl.metadata (1.9 kB)\n",
            "Collecting opentelemetry.instrumentation.requests>=0.40b0 (from qiskit-serverless==0.12.0->qc-grader@ git+https://github.com/qiskit-community/Quantum-Challenge-Grader.git->qc-grader[qiskit]@ git+https://github.com/qiskit-community/Quantum-Challenge-Grader.git)\n",
            "  Downloading opentelemetry_instrumentation_requests-0.52b1-py3-none-any.whl.metadata (2.7 kB)\n",
            "Collecting ipywidgets>=8.1.2 (from qiskit-serverless==0.12.0->qc-grader@ git+https://github.com/qiskit-community/Quantum-Challenge-Grader.git->qc-grader[qiskit]@ git+https://github.com/qiskit-community/Quantum-Challenge-Grader.git)\n",
            "  Downloading ipywidgets-8.1.5-py3-none-any.whl.metadata (2.3 kB)\n",
            "Collecting ipython>=8.10.0 (from qiskit-serverless==0.12.0->qc-grader@ git+https://github.com/qiskit-community/Quantum-Challenge-Grader.git->qc-grader[qiskit]@ git+https://github.com/qiskit-community/Quantum-Challenge-Grader.git)\n",
            "  Downloading ipython-9.0.2-py3-none-any.whl.metadata (4.3 kB)\n",
            "Requirement already satisfied: matplotlib>=3.3 in /usr/local/lib/python3.11/dist-packages (from qiskit[visualization]==1.2.0; extra == \"qiskit\"->qc-grader@ git+https://github.com/qiskit-community/Quantum-Challenge-Grader.git->qc-grader[qiskit]@ git+https://github.com/qiskit-community/Quantum-Challenge-Grader.git) (3.10.0)\n",
            "Requirement already satisfied: pydot in /usr/local/lib/python3.11/dist-packages (from qiskit[visualization]==1.2.0; extra == \"qiskit\"->qc-grader@ git+https://github.com/qiskit-community/Quantum-Challenge-Grader.git->qc-grader[qiskit]@ git+https://github.com/qiskit-community/Quantum-Challenge-Grader.git) (3.0.4)\n",
            "Requirement already satisfied: Pillow>=4.2.1 in /usr/local/lib/python3.11/dist-packages (from qiskit[visualization]==1.2.0; extra == \"qiskit\"->qc-grader@ git+https://github.com/qiskit-community/Quantum-Challenge-Grader.git->qc-grader[qiskit]@ git+https://github.com/qiskit-community/Quantum-Challenge-Grader.git) (11.1.0)\n",
            "Collecting pylatexenc>=1.4 (from qiskit[visualization]==1.2.0; extra == \"qiskit\"->qc-grader@ git+https://github.com/qiskit-community/Quantum-Challenge-Grader.git->qc-grader[qiskit]@ git+https://github.com/qiskit-community/Quantum-Challenge-Grader.git)\n",
            "  Downloading pylatexenc-2.10.tar.gz (162 kB)\n",
            "\u001b[2K     \u001b[90m━━━━━━━━━━━━━━━━━━━━━━━━━━━━━━━━━━━━━━━━\u001b[0m \u001b[32m162.6/162.6 kB\u001b[0m \u001b[31m5.1 MB/s\u001b[0m eta \u001b[36m0:00:00\u001b[0m\n",
            "\u001b[?25h  Preparing metadata (setup.py) ... \u001b[?25l\u001b[?25hdone\n",
            "Requirement already satisfied: seaborn>=0.9.0 in /usr/local/lib/python3.11/dist-packages (from qiskit[visualization]==1.2.0; extra == \"qiskit\"->qc-grader@ git+https://github.com/qiskit-community/Quantum-Challenge-Grader.git->qc-grader[qiskit]@ git+https://github.com/qiskit-community/Quantum-Challenge-Grader.git) (0.13.2)\n",
            "Collecting requests-ntlm>=1.1.0 (from qiskit-ibm-runtime->qc-grader@ git+https://github.com/qiskit-community/Quantum-Challenge-Grader.git->qc-grader[qiskit]@ git+https://github.com/qiskit-community/Quantum-Challenge-Grader.git)\n",
            "  Downloading requests_ntlm-1.3.0-py3-none-any.whl.metadata (2.4 kB)\n",
            "Requirement already satisfied: urllib3>=1.21.1 in /usr/local/lib/python3.11/dist-packages (from qiskit-ibm-runtime->qc-grader@ git+https://github.com/qiskit-community/Quantum-Challenge-Grader.git->qc-grader[qiskit]@ git+https://github.com/qiskit-community/Quantum-Challenge-Grader.git) (2.3.0)\n",
            "Requirement already satisfied: websocket-client>=1.5.1 in /usr/local/lib/python3.11/dist-packages (from qiskit-ibm-runtime->qc-grader@ git+https://github.com/qiskit-community/Quantum-Challenge-Grader.git->qc-grader[qiskit]@ git+https://github.com/qiskit-community/Quantum-Challenge-Grader.git) (1.8.0)\n",
            "Collecting ibm-platform-services>=0.22.6 (from qiskit-ibm-runtime->qc-grader@ git+https://github.com/qiskit-community/Quantum-Challenge-Grader.git->qc-grader[qiskit]@ git+https://github.com/qiskit-community/Quantum-Challenge-Grader.git)\n",
            "  Downloading ibm_platform_services-0.63.0-py3-none-any.whl.metadata (9.0 kB)\n",
            "Collecting pydantic<2.10,>=2.5.0 (from qiskit-ibm-runtime->qc-grader@ git+https://github.com/qiskit-community/Quantum-Challenge-Grader.git->qc-grader[qiskit]@ git+https://github.com/qiskit-community/Quantum-Challenge-Grader.git)\n",
            "  Downloading pydantic-2.9.2-py3-none-any.whl.metadata (149 kB)\n",
            "\u001b[2K     \u001b[90m━━━━━━━━━━━━━━━━━━━━━━━━━━━━━━━━━━━━━━━━\u001b[0m \u001b[32m149.4/149.4 kB\u001b[0m \u001b[31m6.4 MB/s\u001b[0m eta \u001b[36m0:00:00\u001b[0m\n",
            "\u001b[?25hINFO: pip is looking at multiple versions of qiskit-ibm-runtime to determine which version is compatible with other requirements. This could take a while.\n",
            "Collecting qiskit-ibm-runtime (from qc-grader@ git+https://github.com/qiskit-community/Quantum-Challenge-Grader.git->qc-grader[qiskit]@ git+https://github.com/qiskit-community/Quantum-Challenge-Grader.git)\n",
            "  Downloading qiskit_ibm_runtime-0.36.1-py3-none-any.whl.metadata (20 kB)\n",
            "  Downloading qiskit_ibm_runtime-0.36.0-py3-none-any.whl.metadata (20 kB)\n",
            "  Downloading qiskit_ibm_runtime-0.35.0-py3-none-any.whl.metadata (20 kB)\n",
            "Requirement already satisfied: psutil>=5 in /usr/local/lib/python3.11/dist-packages (from qiskit-aer->qc-grader@ git+https://github.com/qiskit-community/Quantum-Challenge-Grader.git->qc-grader[qiskit]@ git+https://github.com/qiskit-community/Quantum-Challenge-Grader.git) (5.9.5)\n",
            "Collecting spectate>=1.0.0 (from ipycytoscape->qc-grader@ git+https://github.com/qiskit-community/Quantum-Challenge-Grader.git->qc-grader[qiskit]@ git+https://github.com/qiskit-community/Quantum-Challenge-Grader.git)\n",
            "  Downloading spectate-1.0.1-py2.py3-none-any.whl.metadata (2.2 kB)\n",
            "Requirement already satisfied: tenacity>=6.2.0 in /usr/local/lib/python3.11/dist-packages (from plotly->qc-grader@ git+https://github.com/qiskit-community/Quantum-Challenge-Grader.git->qc-grader[qiskit]@ git+https://github.com/qiskit-community/Quantum-Challenge-Grader.git) (9.0.0)\n",
            "Requirement already satisfied: packaging in /usr/local/lib/python3.11/dist-packages (from plotly->qc-grader@ git+https://github.com/qiskit-community/Quantum-Challenge-Grader.git->qc-grader[qiskit]@ git+https://github.com/qiskit-community/Quantum-Challenge-Grader.git) (24.2)\n",
            "Requirement already satisfied: certifi>=2021.5.30 in /usr/local/lib/python3.11/dist-packages (from qiskit-ibm-catalog->qc-grader@ git+https://github.com/qiskit-community/Quantum-Challenge-Grader.git->qc-grader[qiskit]@ git+https://github.com/qiskit-community/Quantum-Challenge-Grader.git) (2025.1.31)\n",
            "INFO: pip is looking at multiple versions of qiskit-ibm-catalog to determine which version is compatible with other requirements. This could take a while.\n",
            "Collecting qiskit-ibm-catalog (from qc-grader@ git+https://github.com/qiskit-community/Quantum-Challenge-Grader.git->qc-grader[qiskit]@ git+https://github.com/qiskit-community/Quantum-Challenge-Grader.git)\n",
            "  Downloading qiskit_ibm_catalog-0.4.0-py3-none-any.whl.metadata (17 kB)\n",
            "  Downloading qiskit_ibm_catalog-0.3.0-py3-none-any.whl.metadata (17 kB)\n",
            "  Downloading qiskit_ibm_catalog-0.2.0-py3-none-any.whl.metadata (17 kB)\n",
            "  Downloading qiskit_ibm_catalog-0.1.0-py3-none-any.whl.metadata (17 kB)\n",
            "  Downloading qiskit_ibm_catalog-0.0.0-py3-none-any.whl.metadata (17 kB)\n",
            "\u001b[31mERROR: Cannot install qc-grader and qc-grader[qiskit]==0.21.5 because these package versions have conflicting dependencies.\u001b[0m\u001b[31m\n",
            "\u001b[0m\n",
            "The conflict is caused by:\n",
            "    qc-grader[qiskit] 0.21.5 depends on qiskit-serverless==0.12.0; extra == \"qiskit\"\n",
            "    qiskit-ibm-catalog 0.5.0 depends on qiskit-serverless<0.22.0 and >=0.21.0\n",
            "    qc-grader[qiskit] 0.21.5 depends on qiskit-serverless==0.12.0; extra == \"qiskit\"\n",
            "    qiskit-ibm-catalog 0.4.0 depends on qiskit-serverless<0.21.0 and >=0.20.0\n",
            "    qc-grader[qiskit] 0.21.5 depends on qiskit-serverless==0.12.0; extra == \"qiskit\"\n",
            "    qiskit-ibm-catalog 0.3.0 depends on qiskit-serverless<0.20.0 and >=0.19.0\n",
            "    qc-grader[qiskit] 0.21.5 depends on qiskit-serverless==0.12.0; extra == \"qiskit\"\n",
            "    qiskit-ibm-catalog 0.2.0 depends on qiskit-serverless<0.19.0 and >=0.18.0\n",
            "    qc-grader[qiskit] 0.21.5 depends on qiskit-serverless==0.12.0; extra == \"qiskit\"\n",
            "    qiskit-ibm-catalog 0.1.0 depends on qiskit-serverless>=0.17.0\n",
            "    qc-grader[qiskit] 0.21.5 depends on qiskit-serverless==0.12.0; extra == \"qiskit\"\n",
            "    qiskit-ibm-catalog 0.0.0 depends on qiskit-serverless>=0.14.2\n",
            "\n",
            "To fix this you could try to:\n",
            "1. loosen the range of package versions you've specified\n",
            "2. remove package versions to allow pip to attempt to solve the dependency conflict\n",
            "\n",
            "\u001b[31mERROR: ResolutionImpossible: for help visit https://pip.pypa.io/en/latest/topics/dependency-resolution/#dealing-with-dependency-conflicts\u001b[0m\u001b[31m\n",
            "\u001b[0mCollecting qiskit\n",
            "  Downloading qiskit-2.0.0-cp39-abi3-manylinux_2_17_x86_64.manylinux2014_x86_64.whl.metadata (12 kB)\n",
            "Collecting rustworkx>=0.15.0 (from qiskit)\n",
            "  Using cached rustworkx-0.16.0-cp39-abi3-manylinux_2_17_x86_64.manylinux2014_x86_64.whl.metadata (10 kB)\n",
            "Requirement already satisfied: numpy<3,>=1.17 in /usr/local/lib/python3.11/dist-packages (from qiskit) (2.0.2)\n",
            "Requirement already satisfied: scipy>=1.5 in /usr/local/lib/python3.11/dist-packages (from qiskit) (1.14.1)\n",
            "Requirement already satisfied: sympy>=1.3 in /usr/local/lib/python3.11/dist-packages (from qiskit) (1.13.1)\n",
            "Collecting dill>=0.3 (from qiskit)\n",
            "  Using cached dill-0.3.9-py3-none-any.whl.metadata (10 kB)\n",
            "Requirement already satisfied: python-dateutil>=2.8.0 in /usr/local/lib/python3.11/dist-packages (from qiskit) (2.8.2)\n",
            "Collecting stevedore>=3.0.0 (from qiskit)\n",
            "  Using cached stevedore-5.4.1-py3-none-any.whl.metadata (2.3 kB)\n",
            "Requirement already satisfied: typing-extensions in /usr/local/lib/python3.11/dist-packages (from qiskit) (4.13.0)\n",
            "Collecting symengine<0.14,>=0.11 (from qiskit)\n",
            "  Downloading symengine-0.13.0-cp311-cp311-manylinux_2_17_x86_64.manylinux2014_x86_64.whl.metadata (1.2 kB)\n",
            "Requirement already satisfied: six>=1.5 in /usr/local/lib/python3.11/dist-packages (from python-dateutil>=2.8.0->qiskit) (1.17.0)\n",
            "Collecting pbr>=2.0.0 (from stevedore>=3.0.0->qiskit)\n",
            "  Downloading pbr-6.1.1-py2.py3-none-any.whl.metadata (3.4 kB)\n",
            "Requirement already satisfied: mpmath<1.4,>=1.1.0 in /usr/local/lib/python3.11/dist-packages (from sympy>=1.3->qiskit) (1.3.0)\n",
            "Requirement already satisfied: setuptools in /usr/local/lib/python3.11/dist-packages (from pbr>=2.0.0->stevedore>=3.0.0->qiskit) (75.2.0)\n",
            "Downloading qiskit-2.0.0-cp39-abi3-manylinux_2_17_x86_64.manylinux2014_x86_64.whl (6.5 MB)\n",
            "\u001b[2K   \u001b[90m━━━━━━━━━━━━━━━━━━━━━━━━━━━━━━━━━━━━━━━━\u001b[0m \u001b[32m6.5/6.5 MB\u001b[0m \u001b[31m44.0 MB/s\u001b[0m eta \u001b[36m0:00:00\u001b[0m\n",
            "\u001b[?25hDownloading dill-0.3.9-py3-none-any.whl (119 kB)\n",
            "\u001b[2K   \u001b[90m━━━━━━━━━━━━━━━━━━━━━━━━━━━━━━━━━━━━━━━━\u001b[0m \u001b[32m119.4/119.4 kB\u001b[0m \u001b[31m7.8 MB/s\u001b[0m eta \u001b[36m0:00:00\u001b[0m\n",
            "\u001b[?25hDownloading rustworkx-0.16.0-cp39-abi3-manylinux_2_17_x86_64.manylinux2014_x86_64.whl (2.1 MB)\n",
            "\u001b[2K   \u001b[90m━━━━━━━━━━━━━━━━━━━━━━━━━━━━━━━━━━━━━━━━\u001b[0m \u001b[32m2.1/2.1 MB\u001b[0m \u001b[31m57.3 MB/s\u001b[0m eta \u001b[36m0:00:00\u001b[0m\n",
            "\u001b[?25hDownloading stevedore-5.4.1-py3-none-any.whl (49 kB)\n",
            "\u001b[2K   \u001b[90m━━━━━━━━━━━━━━━━━━━━━━━━━━━━━━━━━━━━━━━━\u001b[0m \u001b[32m49.5/49.5 kB\u001b[0m \u001b[31m2.5 MB/s\u001b[0m eta \u001b[36m0:00:00\u001b[0m\n",
            "\u001b[?25hDownloading symengine-0.13.0-cp311-cp311-manylinux_2_17_x86_64.manylinux2014_x86_64.whl (49.7 MB)\n",
            "\u001b[2K   \u001b[90m━━━━━━━━━━━━━━━━━━━━━━━━━━━━━━━━━━━━━━━━\u001b[0m \u001b[32m49.7/49.7 MB\u001b[0m \u001b[31m19.6 MB/s\u001b[0m eta \u001b[36m0:00:00\u001b[0m\n",
            "\u001b[?25hDownloading pbr-6.1.1-py2.py3-none-any.whl (108 kB)\n",
            "\u001b[2K   \u001b[90m━━━━━━━━━━━━━━━━━━━━━━━━━━━━━━━━━━━━━━━━\u001b[0m \u001b[32m109.0/109.0 kB\u001b[0m \u001b[31m6.5 MB/s\u001b[0m eta \u001b[36m0:00:00\u001b[0m\n",
            "\u001b[?25hInstalling collected packages: symengine, rustworkx, pbr, dill, stevedore, qiskit\n",
            "Successfully installed dill-0.3.9 pbr-6.1.1 qiskit-2.0.0 rustworkx-0.16.0 stevedore-5.4.1 symengine-0.13.0\n"
          ]
        }
      ],
      "source": [
        "!pip install 'qc-grader[qiskit] @ git+https://github.com/qiskit-community/Quantum-Challenge-Grader.git'\n",
        "!pip install qiskit"
      ]
    },
    {
      "cell_type": "code",
      "source": [
        "import numpy as np\n",
        "zero_ket = np.array([1, 0])\n",
        "print(\"|0> ket:\\n\",zero_ket)\n",
        "print(\"<0| bra:\\n\",zero_ket.conj())"
      ],
      "metadata": {
        "colab": {
          "base_uri": "https://localhost:8080/"
        },
        "id": "bJh-N0GpiVeV",
        "outputId": "20fec162-d982-4efd-c8de-2310c5b8d69a"
      },
      "id": "bJh-N0GpiVeV",
      "execution_count": 3,
      "outputs": [
        {
          "output_type": "stream",
          "name": "stdout",
          "text": [
            "|0> ket:\n",
            " [1 0]\n",
            "<0| bra:\n",
            " [1 0]\n"
          ]
        }
      ]
    },
    {
      "source": [
        "zero_ket.dot(zero_ket.T.conj()) # Changed zeto_ket to zero_ket"
      ],
      "cell_type": "code",
      "metadata": {
        "colab": {
          "base_uri": "https://localhost:8080/"
        },
        "id": "Qt9T_w01P-B2",
        "outputId": "9c451e27-aab9-4f4b-9976-3d8c59e16284"
      },
      "id": "Qt9T_w01P-B2",
      "execution_count": 5,
      "outputs": [
        {
          "output_type": "execute_result",
          "data": {
            "text/plain": [
              "np.int64(1)"
            ]
          },
          "metadata": {},
          "execution_count": 5
        }
      ]
    },
    {
      "cell_type": "code",
      "source": [],
      "metadata": {
        "id": "UGuoxh_PaNan"
      },
      "id": "UGuoxh_PaNan",
      "execution_count": null,
      "outputs": []
    },
    {
      "source": [
        "!pip install qiskit"
      ],
      "cell_type": "code",
      "metadata": {
        "id": "koK2UnhZaPGr",
        "outputId": "fb10a1c9-a4fe-4910-b2fa-b5455a9bb0a0",
        "colab": {
          "base_uri": "https://localhost:8080/"
        }
      },
      "id": "koK2UnhZaPGr",
      "execution_count": 9,
      "outputs": [
        {
          "output_type": "stream",
          "name": "stdout",
          "text": [
            "Collecting qiskit\n",
            "  Downloading qiskit-2.0.0-cp39-abi3-manylinux_2_17_x86_64.manylinux2014_x86_64.whl.metadata (12 kB)\n",
            "Collecting rustworkx>=0.15.0 (from qiskit)\n",
            "  Downloading rustworkx-0.16.0-cp39-abi3-manylinux_2_17_x86_64.manylinux2014_x86_64.whl.metadata (10 kB)\n",
            "Requirement already satisfied: numpy<3,>=1.17 in /usr/local/lib/python3.11/dist-packages (from qiskit) (2.0.2)\n",
            "Requirement already satisfied: scipy>=1.5 in /usr/local/lib/python3.11/dist-packages (from qiskit) (1.14.1)\n",
            "Requirement already satisfied: sympy>=1.3 in /usr/local/lib/python3.11/dist-packages (from qiskit) (1.13.1)\n",
            "Collecting dill>=0.3 (from qiskit)\n",
            "  Downloading dill-0.3.9-py3-none-any.whl.metadata (10 kB)\n",
            "Requirement already satisfied: python-dateutil>=2.8.0 in /usr/local/lib/python3.11/dist-packages (from qiskit) (2.8.2)\n",
            "Collecting stevedore>=3.0.0 (from qiskit)\n",
            "  Downloading stevedore-5.4.1-py3-none-any.whl.metadata (2.3 kB)\n",
            "Requirement already satisfied: typing-extensions in /usr/local/lib/python3.11/dist-packages (from qiskit) (4.13.0)\n",
            "Collecting symengine<0.14,>=0.11 (from qiskit)\n",
            "  Downloading symengine-0.13.0-cp311-cp311-manylinux_2_17_x86_64.manylinux2014_x86_64.whl.metadata (1.2 kB)\n",
            "Requirement already satisfied: six>=1.5 in /usr/local/lib/python3.11/dist-packages (from python-dateutil>=2.8.0->qiskit) (1.17.0)\n",
            "Collecting pbr>=2.0.0 (from stevedore>=3.0.0->qiskit)\n",
            "  Downloading pbr-6.1.1-py2.py3-none-any.whl.metadata (3.4 kB)\n",
            "Requirement already satisfied: mpmath<1.4,>=1.1.0 in /usr/local/lib/python3.11/dist-packages (from sympy>=1.3->qiskit) (1.3.0)\n",
            "Requirement already satisfied: setuptools in /usr/local/lib/python3.11/dist-packages (from pbr>=2.0.0->stevedore>=3.0.0->qiskit) (75.2.0)\n",
            "Downloading qiskit-2.0.0-cp39-abi3-manylinux_2_17_x86_64.manylinux2014_x86_64.whl (6.5 MB)\n",
            "\u001b[2K   \u001b[90m━━━━━━━━━━━━━━━━━━━━━━━━━━━━━━━━━━━━━━━━\u001b[0m \u001b[32m6.5/6.5 MB\u001b[0m \u001b[31m63.7 MB/s\u001b[0m eta \u001b[36m0:00:00\u001b[0m\n",
            "\u001b[?25hDownloading dill-0.3.9-py3-none-any.whl (119 kB)\n",
            "\u001b[2K   \u001b[90m━━━━━━━━━━━━━━━━━━━━━━━━━━━━━━━━━━━━━━━━\u001b[0m \u001b[32m119.4/119.4 kB\u001b[0m \u001b[31m9.7 MB/s\u001b[0m eta \u001b[36m0:00:00\u001b[0m\n",
            "\u001b[?25hDownloading rustworkx-0.16.0-cp39-abi3-manylinux_2_17_x86_64.manylinux2014_x86_64.whl (2.1 MB)\n",
            "\u001b[2K   \u001b[90m━━━━━━━━━━━━━━━━━━━━━━━━━━━━━━━━━━━━━━━━\u001b[0m \u001b[32m2.1/2.1 MB\u001b[0m \u001b[31m69.1 MB/s\u001b[0m eta \u001b[36m0:00:00\u001b[0m\n",
            "\u001b[?25hDownloading stevedore-5.4.1-py3-none-any.whl (49 kB)\n",
            "\u001b[2K   \u001b[90m━━━━━━━━━━━━━━━━━━━━━━━━━━━━━━━━━━━━━━━━\u001b[0m \u001b[32m49.5/49.5 kB\u001b[0m \u001b[31m4.2 MB/s\u001b[0m eta \u001b[36m0:00:00\u001b[0m\n",
            "\u001b[?25hDownloading symengine-0.13.0-cp311-cp311-manylinux_2_17_x86_64.manylinux2014_x86_64.whl (49.7 MB)\n",
            "\u001b[2K   \u001b[90m━━━━━━━━━━━━━━━━━━━━━━━━━━━━━━━━━━━━━━━━\u001b[0m \u001b[32m49.7/49.7 MB\u001b[0m \u001b[31m9.7 MB/s\u001b[0m eta \u001b[36m0:00:00\u001b[0m\n",
            "\u001b[?25hDownloading pbr-6.1.1-py2.py3-none-any.whl (108 kB)\n",
            "\u001b[2K   \u001b[90m━━━━━━━━━━━━━━━━━━━━━━━━━━━━━━━━━━━━━━━━\u001b[0m \u001b[32m109.0/109.0 kB\u001b[0m \u001b[31m8.9 MB/s\u001b[0m eta \u001b[36m0:00:00\u001b[0m\n",
            "\u001b[?25hInstalling collected packages: symengine, rustworkx, pbr, dill, stevedore, qiskit\n",
            "Successfully installed dill-0.3.9 pbr-6.1.1 qiskit-2.0.0 rustworkx-0.16.0 stevedore-5.4.1 symengine-0.13.0\n"
          ]
        }
      ]
    },
    {
      "cell_type": "code",
      "source": [
        "from qiskit import QuantumCircuit, ClassicalRegister, QuantumRegister\n",
        "from qiskit import execute\n",
        "from qiskit import BasicAer\n",
        "from qiskit.tools.visualization import plot_histogram\n",
        "backend = BasicAer.get_backend('qasm_simulator')\n",
        "q = QuantumCircuitRegister(1)\n",
        "c = ClassicalRegister(1)\n",
        "circuit = QuantumCircuit(q, c)\n",
        "circuit.h(q[0])\n",
        "circuit.measure(q, c)\n",
        "job = execute(circuit, backend, shots=1000)\n",
        "plot_histogram(job.result().get_counts(circuit))\n",
        "\n"
      ],
      "metadata": {
        "colab": {
          "base_uri": "https://localhost:8080/",
          "height": 401
        },
        "id": "o_7Hx4EMQD8U",
        "outputId": "6f12bf47-1c73-416e-8718-435648844396"
      },
      "id": "o_7Hx4EMQD8U",
      "execution_count": 10,
      "outputs": [
        {
          "output_type": "error",
          "ename": "ImportError",
          "evalue": "cannot import name 'execute' from 'qiskit' (/usr/local/lib/python3.11/dist-packages/qiskit/__init__.py)",
          "traceback": [
            "\u001b[0;31m---------------------------------------------------------------------------\u001b[0m",
            "\u001b[0;31mImportError\u001b[0m                               Traceback (most recent call last)",
            "\u001b[0;32m<ipython-input-10-f3768312caea>\u001b[0m in \u001b[0;36m<cell line: 0>\u001b[0;34m()\u001b[0m\n\u001b[1;32m      1\u001b[0m \u001b[0;32mfrom\u001b[0m \u001b[0mqiskit\u001b[0m \u001b[0;32mimport\u001b[0m \u001b[0mQuantumCircuit\u001b[0m\u001b[0;34m,\u001b[0m \u001b[0mClassicalRegister\u001b[0m\u001b[0;34m,\u001b[0m \u001b[0mQuantumRegister\u001b[0m\u001b[0;34m\u001b[0m\u001b[0;34m\u001b[0m\u001b[0m\n\u001b[0;32m----> 2\u001b[0;31m \u001b[0;32mfrom\u001b[0m \u001b[0mqiskit\u001b[0m \u001b[0;32mimport\u001b[0m \u001b[0mexecute\u001b[0m\u001b[0;34m\u001b[0m\u001b[0;34m\u001b[0m\u001b[0m\n\u001b[0m\u001b[1;32m      3\u001b[0m \u001b[0;32mfrom\u001b[0m \u001b[0mqiskit\u001b[0m \u001b[0;32mimport\u001b[0m \u001b[0mBasicAer\u001b[0m\u001b[0;34m\u001b[0m\u001b[0;34m\u001b[0m\u001b[0m\n\u001b[1;32m      4\u001b[0m \u001b[0;32mfrom\u001b[0m \u001b[0mqiskit\u001b[0m\u001b[0;34m.\u001b[0m\u001b[0mtools\u001b[0m\u001b[0;34m.\u001b[0m\u001b[0mvisualization\u001b[0m \u001b[0;32mimport\u001b[0m \u001b[0mplot_histogram\u001b[0m\u001b[0;34m\u001b[0m\u001b[0;34m\u001b[0m\u001b[0m\n\u001b[1;32m      5\u001b[0m \u001b[0mbackend\u001b[0m \u001b[0;34m=\u001b[0m \u001b[0mBasicAer\u001b[0m\u001b[0;34m.\u001b[0m\u001b[0mget_backend\u001b[0m\u001b[0;34m(\u001b[0m\u001b[0;34m'qasm_simulator'\u001b[0m\u001b[0;34m)\u001b[0m\u001b[0;34m\u001b[0m\u001b[0;34m\u001b[0m\u001b[0m\n",
            "\u001b[0;31mImportError\u001b[0m: cannot import name 'execute' from 'qiskit' (/usr/local/lib/python3.11/dist-packages/qiskit/__init__.py)",
            "",
            "\u001b[0;31m---------------------------------------------------------------------------\u001b[0;32m\nNOTE: If your import is failing due to a missing package, you can\nmanually install dependencies using either !pip or !apt.\n\nTo view examples of installing some common dependencies, click the\n\"Open Examples\" button below.\n\u001b[0;31m---------------------------------------------------------------------------\u001b[0m\n"
          ],
          "errorDetails": {
            "actions": [
              {
                "action": "open_url",
                "actionText": "Open Examples",
                "url": "/notebooks/snippets/importing_libraries.ipynb"
              }
            ]
          }
        }
      ]
    },
    {
      "cell_type": "code",
      "source": [],
      "metadata": {
        "id": "shFfR1AtoWE1"
      },
      "id": "shFfR1AtoWE1",
      "execution_count": null,
      "outputs": []
    }
  ],
  "metadata": {
    "kernelspec": {
      "display_name": "Python 3 (ipykernel)",
      "language": "python",
      "name": "python3"
    },
    "language_info": {
      "codemirror_mode": {
        "name": "ipython",
        "version": 3
      },
      "file_extension": ".py",
      "mimetype": "text/x-python",
      "name": "python",
      "nbconvert_exporter": "python",
      "pygments_lexer": "ipython3",
      "version": "3.11.0"
    },
    "colab": {
      "provenance": [],
      "include_colab_link": true
    }
  },
  "nbformat": 4,
  "nbformat_minor": 5
}